{
 "cells": [
  {
   "cell_type": "markdown",
   "id": "fdeff819",
   "metadata": {},
   "source": [
    "# Sinh Viên thực hiện Lab 7 ở Đây"
   ]
  },
  {
   "cell_type": "markdown",
   "id": "acc5d7dc",
   "metadata": {},
   "source": [
    "## Lab 7 - Bài 1"
   ]
  },
  {
   "cell_type": "code",
   "execution_count": 11,
   "id": "001e0507",
   "metadata": {},
   "outputs": [
    {
     "name": "stdout",
     "output_type": "stream",
     "text": [
      "- Toàn bộ nội dung file.\n",
      "Tự nguyện\n",
      "Trương Quốc Khánh\n",
      "Nếu là chim, tôi sẽ là loài bồ câu trắng\n",
      "Nếu là hoa, tôi sẽ là một đóa hướng dương\n",
      "Nếu là mây, tôi sẽ là một vầng mây ấm\n",
      "Là người, tôi sẽ chết cho quê hương.\n",
      "\n",
      "Là chim, tôi sẽ cất cao đôi cánh mềm\n",
      "Từ nam ra ngoài bắc báo tin nối liền\n",
      "Là hoa, tôi nở tình yêu ban sớm\n",
      "Cùng muôn trái tim ngất ngây hoà bình.\n",
      "\n",
      "Là mây, theo làn gió tung bay khắp trời\n",
      "Nghìn xưa oai hùng đó tôi xin tiếp lời\n",
      "Là người, xin một lần khi nằm xuống\n",
      "Nhìn anh em đứng lên phất cao ngọn cờ.\n",
      "\n",
      "- Tên bài thơ:  Tự nguyện\n",
      "- Tác giả:  Trương Quốc Khánh\n"
     ]
    }
   ],
   "source": [
    "# Code lab 7 bài 1 ở đây\n",
    "\n",
    "f = open(\"DAT2011 - lab 7 - Resource.txt\", \"r\", encoding=\"utf-8\")\n",
    "noi_dung = f.read()\n",
    "print(\"- Toàn bộ nội dung file.\")\n",
    "print(noi_dung)\n",
    "f.close()\n",
    "\n",
    "f = open(\"DAT2011 - lab 7 - Resource.txt\", \"r\", encoding=\"utf-8\")\n",
    "ten_bai_tho = f.read(9)\n",
    "print(\"\\n- Tên bài thơ: \", ten_bai_tho)\n",
    "f.close()\n",
    "\n",
    "f = open(\"DAT2011 - lab 7 - Resource.txt\", \"r\", encoding=\"utf-8\")\n",
    "f.readline()\n",
    "tac_gia = f.readline()\n",
    "print(\"- Tác giả: \", tac_gia.strip())\n",
    "f.close()"
   ]
  },
  {
   "cell_type": "markdown",
   "id": "c0835310",
   "metadata": {},
   "source": [
    "## Lab 7 - Bài 2"
   ]
  },
  {
   "cell_type": "code",
   "execution_count": 10,
   "id": "fa9cb39f",
   "metadata": {},
   "outputs": [
    {
     "name": "stdout",
     "output_type": "stream",
     "text": [
      "Đã thêm nội dung\n"
     ]
    }
   ],
   "source": [
    "# Code lab 7  bài 2 ở đây\n",
    "\n",
    "with open(\"Lab7-Exercise2.txt\", \"w\", encoding=\"utf-8\") as t:\n",
    "    t.write(\"...\\n\")\n",
    "    t.write(\"Nếu một mai tôi có bay bên bầu trời\\n\")\n",
    "    t.write(\"Thì người ơi ôi đã sống rất thảnh thơi\\n\")\n",
    "    t.write(\"Cuộc đời như gió, thoáng qua trong mắt\\n\")\n",
    "    t.write(\"Giữ lại niềm vui, quên đi mệt nhoài\\n\")\n",
    "    t.write(\"nếu một mai tôi có qua đời\\n\")\n",
    "    t.write(\"Thì người ơi tôi đã sống rất tuyệt vời\\n\")\n",
    "    t.write(\"...\")\n",
    "print(\"Đã thêm nội dung\")\n",
    "t.close()\n"
   ]
  },
  {
   "cell_type": "markdown",
   "id": "0f2483fe",
   "metadata": {},
   "source": [
    "## Lab 7 - Bài 3"
   ]
  },
  {
   "cell_type": "code",
   "execution_count": 1,
   "id": "7034990b",
   "metadata": {},
   "outputs": [
    {
     "name": "stdout",
     "output_type": "stream",
     "text": [
      "----------Nhập thông tin----------\n",
      "\n",
      " Bài thơ thứ 1: \n",
      "\n",
      " Bài thơ thứ 2: \n",
      "\n",
      " Bài thơ thứ 3: \n",
      "\n",
      " Bài thơ thứ 4: \n",
      "\n",
      " Bài thơ thứ 5: \n",
      "\n",
      " đã ghi vào file 'tho.csv' thành công \n"
     ]
    }
   ],
   "source": [
    "# Code lab 7  bài 3 ở đây\n",
    "import csv\n",
    "bai_tho = \"tho.csv\"\n",
    "ds_tho = []\n",
    "\n",
    "print(\"-\"*10 + \"Nhập thông tin\" + 10*\"-\")\n",
    "for i in range(5):\n",
    "    print(f\"\\n Bài thơ thứ {i+1}: \")\n",
    "    ten_bai = input(f\"Nhập tên bài thơ {i + 1}: \")\n",
    "    tac_gia = input(\"Nhập tác giả: \")\n",
    "    nam_sang_tac = input(\"Nhập năm sáng tác: \")\n",
    "    ds_tho.append([i+1, ten_bai, tac_gia, nam_sang_tac])\n",
    "\n",
    "with open(bai_tho, \"w\", newline=\"\", encoding=\"utf-8\") as file:\n",
    "    writer = csv.writer(file)\n",
    "    writer.writerow([\"STT\", \"Tiêu đề\", \"Tác giả\", \"Năm sáng tác\"])\n",
    "    writer.writerows(ds_tho)\n",
    "\n",
    "print(f\"\\n đã ghi vào file '{bai_tho}' thành công \")"
   ]
  },
  {
   "cell_type": "markdown",
   "id": "d36ea3d3",
   "metadata": {},
   "source": [
    "## Lab 7 - Bài 4"
   ]
  },
  {
   "cell_type": "code",
   "execution_count": null,
   "id": "4c707ec1",
   "metadata": {},
   "outputs": [
    {
     "name": "stdout",
     "output_type": "stream",
     "text": [
      "đã tạo xong file XML bai_tho.xml\n"
     ]
    }
   ],
   "source": [
    "# code lab 7 bài 4 ở đây\n",
    "input_file = \"DAT2011 - Lab 7 - Resource.txt\"\n",
    "output_file = \"bai_tho.xml\"\n",
    "\n",
    "with open(input_file, \"r\", encoding=\"utf-8\") as f:\n",
    "    lines = f.read().splitlines()\n",
    "\n",
    "ten_tho = lines[0].strip()\n",
    "nguoi_sang_tac = lines[1].strip()\n",
    "\n",
    "noi_dungg = lines[2:]\n",
    "\n",
    "kho_tho = []\n",
    "doan_hien_tai = []\n",
    "\n",
    "\n",
    "for line in noi_dungg:\n",
    "    if line.strip() == \"\":\n",
    "        if doan_hien_tai:\n",
    "            kho_tho.append(\" \".join(doan_hien_tai))\n",
    "            doan_hien_tai = []\n",
    "    \n",
    "    else:\n",
    "        doan_hien_tai.append(line.strip())\n",
    "\n",
    "if doan_hien_tai:\n",
    "    kho_tho.append(\" \".join(doan_hien_tai))\n",
    "\n",
    "\n",
    "with open(output_file, \"w\", encoding=\"utf-8\") as f:\n",
    "    f.write(\"<song>\\n\")\n",
    "    f.write(\"    <song>\\n\")\n",
    "    f.write(f\"         <name>{ten_tho}</name>\\n\")\n",
    "    f.write(f\"         <author>{nguoi_sang_tac}</author>\\n\")\n",
    "\n",
    "    for section in kho_tho:\n",
    "        f.write(f\"         <section>{section}</section>\\n\")\n",
    "\n",
    "    f.write(\"   </song>\\n\")\n",
    "    f.write(\"</song>\\n\")\n",
    "\n",
    "print(\"đã tạo xong file XML\", output_file )"
   ]
  },
  {
   "cell_type": "markdown",
   "id": "e2b41d4a",
   "metadata": {},
   "source": [
    "## Lab 7 - Bài 5: bài tập làm thêm"
   ]
  },
  {
   "cell_type": "code",
   "execution_count": null,
   "id": "0e0172f7",
   "metadata": {},
   "outputs": [],
   "source": [
    "# code lab 7  bài làm thêm ở đây "
   ]
  }
 ],
 "metadata": {
  "kernelspec": {
   "display_name": "Python 3",
   "language": "python",
   "name": "python3"
  },
  "language_info": {
   "codemirror_mode": {
    "name": "ipython",
    "version": 3
   },
   "file_extension": ".py",
   "mimetype": "text/x-python",
   "name": "python",
   "nbconvert_exporter": "python",
   "pygments_lexer": "ipython3",
   "version": "3.12.10"
  }
 },
 "nbformat": 4,
 "nbformat_minor": 5
}
