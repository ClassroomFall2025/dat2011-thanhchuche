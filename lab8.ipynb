{
 "cells": [
  {
   "cell_type": "markdown",
   "id": "fdeff819",
   "metadata": {},
   "source": [
    "# Sinh Viên thực hiện Lab 8 ở Đây"
   ]
  },
  {
   "cell_type": "markdown",
   "id": "acc5d7dc",
   "metadata": {},
   "source": [
    "## Lab 8 - Bài 1"
   ]
  },
  {
   "cell_type": "code",
   "execution_count": 1,
   "id": "001e0507",
   "metadata": {},
   "outputs": [
    {
     "name": "stdout",
     "output_type": "stream",
     "text": [
      "Họ:  NGUYỄN\n",
      "Tên đệm:  Hữu\n",
      "Tên:  THÀNH\n"
     ]
    }
   ],
   "source": [
    "# Code lab 8 bài 1 ở đây\n",
    "\n",
    "ho_ten = input(\"Nhập họ và tên của bạn: \").strip()\n",
    "tu = ho_ten.split()\n",
    "\n",
    "ho = tu[0].upper()\n",
    "ten = tu[-1].upper()\n",
    "ten_dem = \" \".join(tu[1:-1]) if len(tu) > 2 else \"\"\n",
    "\n",
    "print(\"Họ: \", ho)\n",
    "print(\"Tên đệm: \", ten_dem)\n",
    "print(\"Tên: \", ten)"
   ]
  },
  {
   "cell_type": "markdown",
   "id": "c0835310",
   "metadata": {},
   "source": [
    "## Lab 8 - Bài 2"
   ]
  },
  {
   "cell_type": "code",
   "execution_count": 5,
   "id": "fa9cb39f",
   "metadata": {},
   "outputs": [
    {
     "name": "stdout",
     "output_type": "stream",
     "text": [
      "Số chứng minh nhân dân không hợp lệ! vui lòng nhập lại (12 số): \n",
      "\n",
      " Thông tin sinh viên:\n",
      "Họ và tên:  Hữu Thành\n",
      "Số điện thoại:  0344236747\n",
      "Chứng minh nhân dân:  123456789011\n"
     ]
    }
   ],
   "source": [
    "# Code lab 8  bài 2 ở đây\n",
    "import re \n",
    "sinh_vien = {}\n",
    "\n",
    "sinh_vien[\"ho_ten\"] = input(\"Nhập họ và tên: \").strip()\n",
    "\n",
    "while True:\n",
    "    email = input(\"Nhập email của bạn: \").strip()\n",
    "    if re.match(r\"^[\\w\\.-]+@[\\w\\.-]+\\.\\w+$\", email):\n",
    "        sinh_vien[\"email\"] = email\n",
    "        break\n",
    "    else:\n",
    "        print(\"Email nhập không hợp lệ! Vui lòng nhập lại: \")\n",
    "    \n",
    "while True:\n",
    "    so_dien_thoai = input(\"Nhập số điện thoại: \").strip()\n",
    "    if re.match(r\"^(0|\\+84)\\d{9}$\", so_dien_thoai):\n",
    "        sinh_vien[\"so_dien_thoai\"] = so_dien_thoai\n",
    "        break\n",
    "    else: \n",
    "        print(\"Số điện thoại không hợp lệ! Vui lòng nhập lại: \")\n",
    "\n",
    "while True:\n",
    "    chung_minh_nhan_dan = input(\"Nhập số chứng minh nhân dân: \").strip()\n",
    "    if re.match(r\"^\\d{12}$\", chung_minh_nhan_dan):\n",
    "        sinh_vien[\"chung_minh_nhan_dan\"] = chung_minh_nhan_dan\n",
    "        break\n",
    "    else:\n",
    "        print(\"Số chứng minh nhân dân không hợp lệ! vui lòng nhập lại (12 số): \") \n",
    "\n",
    "print(\"\\n Thông tin sinh viên:\")\n",
    "print(\"Họ và tên: \", sinh_vien[\"ho_ten\"])\n",
    "print(\"Số điện thoại: \", sinh_vien[\"so_dien_thoai\"])\n",
    "print(\"Chứng minh nhân dân: \", sinh_vien[\"chung_minh_nhan_dan\"])\n"
   ]
  },
  {
   "cell_type": "markdown",
   "id": "0f2483fe",
   "metadata": {},
   "source": [
    "## Lab 8 - Bài 3"
   ]
  },
  {
   "cell_type": "code",
   "execution_count": 6,
   "id": "7034990b",
   "metadata": {},
   "outputs": [
    {
     "name": "stdout",
     "output_type": "stream",
     "text": [
      "Đã tạo thành công \n"
     ]
    }
   ],
   "source": [
    "# Code lab 8  bài 3 ở đây\n",
    "\n",
    "import random\n",
    "so_ngau_nhien = [str(random.randint(0, 100)) for n in range(100)]\n",
    "\n",
    "with open(\"so_ngau_nhien.csv\", \"w\") as file:\n",
    "    file.write(\" \".join(so_ngau_nhien))\n",
    "\n",
    "print(\"Đã tạo thành công \")"
   ]
  },
  {
   "cell_type": "markdown",
   "id": "d36ea3d3",
   "metadata": {},
   "source": [
    "## Lab 8 - Bài 4"
   ]
  },
  {
   "cell_type": "code",
   "execution_count": 10,
   "id": "4c707ec1",
   "metadata": {},
   "outputs": [
    {
     "name": "stdout",
     "output_type": "stream",
     "text": [
      "Trung bình:  46.13\n",
      "Độ lệch chuẩn:  29.71740808742148\n"
     ]
    }
   ],
   "source": [
    "# code lab 8 bài 4 ở đây\n",
    "\n",
    "import statistics\n",
    "\n",
    "with open(\"so_ngau_nhien.csv\", \"r\") as f:\n",
    "    data = f.read().split()\n",
    "\n",
    "numbers = [int(x) for x in data]\n",
    "\n",
    "mean_value = statistics.mean(numbers)\n",
    "stdev_value = statistics.stdev(numbers)\n",
    "\n",
    "print(\"Trung bình: \", mean_value)\n",
    "print(\"Độ lệch chuẩn: \", stdev_value)"
   ]
  },
  {
   "cell_type": "markdown",
   "id": "e2b41d4a",
   "metadata": {},
   "source": [
    "## Lab 8 - Bài 5: bài tập làm thêm"
   ]
  },
  {
   "cell_type": "code",
   "execution_count": null,
   "id": "0e0172f7",
   "metadata": {},
   "outputs": [],
   "source": [
    "# code lab 8  bài làm thêm ở đây "
   ]
  }
 ],
 "metadata": {
  "kernelspec": {
   "display_name": "Python 3",
   "language": "python",
   "name": "python3"
  },
  "language_info": {
   "codemirror_mode": {
    "name": "ipython",
    "version": 3
   },
   "file_extension": ".py",
   "mimetype": "text/x-python",
   "name": "python",
   "nbconvert_exporter": "python",
   "pygments_lexer": "ipython3",
   "version": "3.12.10"
  }
 },
 "nbformat": 4,
 "nbformat_minor": 5
}
