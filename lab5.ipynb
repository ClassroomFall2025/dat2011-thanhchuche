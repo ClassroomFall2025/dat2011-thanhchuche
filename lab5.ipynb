{
 "cells": [
  {
   "cell_type": "markdown",
   "id": "fdeff819",
   "metadata": {},
   "source": [
    "# Sinh Viên thực hiện Lab 5 ở Đây"
   ]
  },
  {
   "cell_type": "markdown",
   "id": "acc5d7dc",
   "metadata": {},
   "source": [
    "## Lab 5 - Bài 1"
   ]
  },
  {
   "cell_type": "code",
   "execution_count": 1,
   "id": "001e0507",
   "metadata": {},
   "outputs": [
    {
     "name": "stdout",
     "output_type": "stream",
     "text": [
      "Tên sản phẩm: laptop DELL\n",
      "Đơn giá: 2,000,000 VND\n",
      "Giảm giá: 1,500,000 VND\n",
      "Thuế nhập khẩu: 200,000 VND\n",
      "===========================\n",
      "Tên sản phẩm: điện thoại\n",
      "Đơn giá: 300,000 VND\n",
      "Giảm giá: 160,000 VND\n",
      "Thuế nhập khẩu: 30,000 VND\n",
      "===========================\n"
     ]
    }
   ],
   "source": [
    "# Code lab 5 bài 1 ở đây\n",
    "from lab5_de import SanPham1 \n",
    "\n",
    "sq1 = SanPham1(\"laptop DELL\", 2000000, 1500000)\n",
    "sq2 = SanPham1(\"điện thoại\", 300000, 160000)\n",
    "\n",
    "sq1.xuat_thong_tin()\n",
    "sq2.xuat_thong_tin()"
   ]
  },
  {
   "cell_type": "markdown",
   "id": "c0835310",
   "metadata": {},
   "source": [
    "## Lab 5 - Bài 2"
   ]
  },
  {
   "cell_type": "code",
   "execution_count": 6,
   "id": "fa9cb39f",
   "metadata": {},
   "outputs": [
    {
     "name": "stdout",
     "output_type": "stream",
     "text": [
      "nhập thông tin sản phẩm 1: \n",
      "nhập thông tin sản phẩm 2: \n",
      "Tên sản phẩm: lap\n",
      "Đơn giá: 10,000 VND\n",
      "Giảm giá: 900 VND\n",
      "Thuế nhập khẩu: 1,000 VND\n",
      "===========================\n",
      "Tên sản phẩm: điện thoại\n",
      "Đơn giá: 2,500 VND\n",
      "Giảm giá: 123 VND\n",
      "Thuế nhập khẩu: 250 VND\n",
      "===========================\n"
     ]
    }
   ],
   "source": [
    "# Code lab 5  bài 2 ở đây\n",
    "from lab5_de import SanPham2\n",
    "\n",
    "sq1 = SanPham2()\n",
    "sq2 = SanPham2()\n",
    "\n",
    "print(\"nhập thông tin sản phẩm 1: \")\n",
    "sq1.nhap()\n",
    "\n",
    "print(\"nhập thông tin sản phẩm 2: \")\n",
    "sq2.nhap()\n",
    "\n",
    "sq1.xuat_thong_tin()\n",
    "sq2.xuat_thong_tin() "
   ]
  },
  {
   "cell_type": "markdown",
   "id": "0f2483fe",
   "metadata": {},
   "source": [
    "## Lab 5 - Bài 3"
   ]
  },
  {
   "cell_type": "code",
   "execution_count": null,
   "id": "7034990b",
   "metadata": {},
   "outputs": [
    {
     "name": "stdout",
     "output_type": "stream",
     "text": [
      "Nhập thông tin sản phẩm 1: \n"
     ]
    },
    {
     "name": "stdout",
     "output_type": "stream",
     "text": [
      "\n",
      "Nhập thông tin sản phẩm 2: \n",
      "Tên sản phẩm: {self.__ten_san_pham}\n",
      "Đơn giá: 0 VND\n",
      "Giảm giá: 0 VND\n",
      "Thuế nhập khẩu: 0 VND\n",
      "==================\n",
      "Tên sản phẩm: {self.__ten_san_pham}\n",
      "Đơn giá: 0 VND\n",
      "Giảm giá: 0 VND\n",
      "Thuế nhập khẩu: 0 VND\n",
      "==================\n",
      "Tên sản phẩm 1:  \n"
     ]
    }
   ],
   "source": [
    "# Code lab 5  bài 3 ở đây\n",
    "from lab5_de import SanPham3\n",
    "\n",
    "sq1 = SanPham3()\n",
    "sq2 = SanPham3()\n",
    "\n",
    "print(\"Nhập thông tin sản phẩm 1: \")\n",
    "sq1.nhap()\n",
    "print(\"\\nNhập thông tin sản phẩm 2: \")\n",
    "sq2.nhap()\n",
    "\n",
    "sq1.xuat()\n",
    "sq2.xuat()\n",
    "\n",
    "print(\"Tên sản phẩm 1: \", sq1.get_ten_san_pham())\n",
    "sq1.set_gia(999999)\n",
    "print(\"Giá mới của sản phẩm 1: \", sq1.set_gia())\n"
   ]
  },
  {
   "cell_type": "markdown",
   "id": "d36ea3d3",
   "metadata": {},
   "source": [
    "## Lab 5 - Bài 4"
   ]
  },
  {
   "cell_type": "code",
   "execution_count": null,
   "id": "4c707ec1",
   "metadata": {},
   "outputs": [],
   "source": [
    "# code lab 5 bài 4 ở đây"
   ]
  },
  {
   "cell_type": "markdown",
   "id": "e2b41d4a",
   "metadata": {},
   "source": [
    "## Lab 5 - Bài 5: bài tập làm thêm"
   ]
  },
  {
   "cell_type": "code",
   "execution_count": null,
   "id": "0e0172f7",
   "metadata": {},
   "outputs": [],
   "source": [
    "# code lab 5  bài làm thêm ở đây "
   ]
  }
 ],
 "metadata": {
  "kernelspec": {
   "display_name": "Python 3",
   "language": "python",
   "name": "python3"
  },
  "language_info": {
   "codemirror_mode": {
    "name": "ipython",
    "version": 3
   },
   "file_extension": ".py",
   "mimetype": "text/x-python",
   "name": "python",
   "nbconvert_exporter": "python",
   "pygments_lexer": "ipython3",
   "version": "3.12.10"
  }
 },
 "nbformat": 4,
 "nbformat_minor": 5
}
