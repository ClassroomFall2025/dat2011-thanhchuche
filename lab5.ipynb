{
 "cells": [
  {
   "cell_type": "markdown",
   "id": "fdeff819",
   "metadata": {},
   "source": [
    "# Sinh Viên thực hiện Lab 5 ở Đây"
   ]
  },
  {
   "cell_type": "markdown",
   "id": "acc5d7dc",
   "metadata": {},
   "source": [
    "## Lab 5 - Bài 1"
   ]
  },
  {
   "cell_type": "code",
   "execution_count": 15,
   "id": "001e0507",
   "metadata": {},
   "outputs": [
    {
     "name": "stdout",
     "output_type": "stream",
     "text": [
      "Tên sản phẩm: laptop DELL\n",
      "Đơn giá: 2,000,000 VND\n",
      "Giảm giá: 1,500,000 VND\n",
      "Thuế nhập khẩu: 200,000 VND\n",
      "===========================\n",
      "Tên sản phẩm: điện thoại\n",
      "Đơn giá: 300,000 VND\n",
      "Giảm giá: 160,000 VND\n",
      "Thuế nhập khẩu: 30,000 VND\n",
      "===========================\n"
     ]
    }
   ],
   "source": [
    "# Code lab 5 bài 1 ở đây\n",
    "from lab5_de import SanPham1 \n",
    "\n",
    "sq1 = SanPham1(\"laptop DELL\", 2000000, 1500000)\n",
    "sq2 = SanPham1(\"điện thoại\", 300000, 160000)\n",
    "\n",
    "sq1.xuat_thong_tin()\n",
    "sq2.xuat_thong_tin()"
   ]
  },
  {
   "cell_type": "markdown",
   "id": "c0835310",
   "metadata": {},
   "source": [
    "## Lab 5 - Bài 2"
   ]
  },
  {
   "cell_type": "code",
   "execution_count": 24,
   "id": "fa9cb39f",
   "metadata": {},
   "outputs": [
    {
     "ename": "ImportError",
     "evalue": "cannot import name 'SanPham2' from 'lab5_de' (d:\\dat2011-github\\lab5_de.py)",
     "output_type": "error",
     "traceback": [
      "\u001b[31m---------------------------------------------------------------------------\u001b[39m",
      "\u001b[31mImportError\u001b[39m                               Traceback (most recent call last)",
      "\u001b[36mCell\u001b[39m\u001b[36m \u001b[39m\u001b[32mIn[24]\u001b[39m\u001b[32m, line 2\u001b[39m\n\u001b[32m      1\u001b[39m \u001b[38;5;66;03m# Code lab 5  bài 2 ở đây\u001b[39;00m\n\u001b[32m----> \u001b[39m\u001b[32m2\u001b[39m \u001b[38;5;28;01mfrom\u001b[39;00m\u001b[38;5;250m \u001b[39m\u001b[34;01mlab5_de\u001b[39;00m\u001b[38;5;250m \u001b[39m\u001b[38;5;28;01mimport\u001b[39;00m SanPham2\n\u001b[32m      4\u001b[39m sq1 = SanPham2()\n\u001b[32m      5\u001b[39m sq2 = SanPham2()\n",
      "\u001b[31mImportError\u001b[39m: cannot import name 'SanPham2' from 'lab5_de' (d:\\dat2011-github\\lab5_de.py)"
     ]
    }
   ],
   "source": [
    "# Code lab 5  bài 2 ở đây\n",
    "from lab5_de import SanPham2\n",
    "\n",
    "sq1 = SanPham2()\n",
    "sq2 = SanPham2()\n",
    "\n",
    "print(\"nhập thông tin sản phẩm 1: \")\n",
    "sq1.nhap()\n",
    "\n",
    "print(\"nhập thông tin sản phẩm 2: \")\n",
    "sq1.nhap \n",
    "\n",
    "sq1.xuat_thong_tin()\n",
    "sq2.xuat_thong_tin() "
   ]
  },
  {
   "cell_type": "markdown",
   "id": "0f2483fe",
   "metadata": {},
   "source": [
    "## Lab 5 - Bài 3"
   ]
  },
  {
   "cell_type": "code",
   "execution_count": null,
   "id": "7034990b",
   "metadata": {},
   "outputs": [],
   "source": [
    "# Code lab 5  bài 3 ở đây"
   ]
  },
  {
   "cell_type": "markdown",
   "id": "d36ea3d3",
   "metadata": {},
   "source": [
    "## Lab 5 - Bài 4"
   ]
  },
  {
   "cell_type": "code",
   "execution_count": null,
   "id": "4c707ec1",
   "metadata": {},
   "outputs": [],
   "source": [
    "# code lab 5 bài 4 ở đây"
   ]
  },
  {
   "cell_type": "markdown",
   "id": "e2b41d4a",
   "metadata": {},
   "source": [
    "## Lab 5 - Bài 5: bài tập làm thêm"
   ]
  },
  {
   "cell_type": "code",
   "execution_count": null,
   "id": "0e0172f7",
   "metadata": {},
   "outputs": [],
   "source": [
    "# code lab 5  bài làm thêm ở đây "
   ]
  }
 ],
 "metadata": {
  "kernelspec": {
   "display_name": "Python 3",
   "language": "python",
   "name": "python3"
  },
  "language_info": {
   "codemirror_mode": {
    "name": "ipython",
    "version": 3
   },
   "file_extension": ".py",
   "mimetype": "text/x-python",
   "name": "python",
   "nbconvert_exporter": "python",
   "pygments_lexer": "ipython3",
   "version": "3.12.10"
  }
 },
 "nbformat": 4,
 "nbformat_minor": 5
}
