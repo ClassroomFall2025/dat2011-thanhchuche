{
 "cells": [
  {
   "cell_type": "markdown",
   "id": "fdeff819",
   "metadata": {},
   "source": [
    "# Sinh Viên thực hiện Lab 1 ở Đây"
   ]
  },
  {
   "cell_type": "markdown",
   "id": "acc5d7dc",
   "metadata": {},
   "source": [
    "## Lab 1 - Bài 1"
   ]
  },
  {
   "cell_type": "code",
   "execution_count": 4,
   "id": "001e0507",
   "metadata": {},
   "outputs": [
    {
     "name": "stdout",
     "output_type": "stream",
     "text": [
      "Xin chào!\n",
      "Tôi tên là Nguyễn Hữu Thành\n",
      "Tôi đến từ Kon Tum\n"
     ]
    }
   ],
   "source": [
    "# Code lab 1 bài 1 ở đây\n",
    "def main():\n",
    "    print(\"Xin chào!\")\n",
    "    print(\"Tôi tên là Nguyễn Hữu Thành\")\n",
    "    print(\"Tôi đến từ Kon Tum\")\n",
    "main()\n"
   ]
  },
  {
   "cell_type": "markdown",
   "id": "c0835310",
   "metadata": {},
   "source": [
    "## Lab 1 - Bài 2"
   ]
  },
  {
   "cell_type": "code",
   "execution_count": null,
   "id": "fa9cb39f",
   "metadata": {},
   "outputs": [
    {
     "name": "stdout",
     "output_type": "stream",
     "text": [
      "==== KẾT QUẢ ====\n",
      "chu_vi: (5.0+1.0) * 2 = 12.0\n",
      "dien_tich: 5.0 * 1.0 = 5.0\n"
     ]
    }
   ],
   "source": [
    "def main():\n",
    "    a = float(input(\"Nhập chiều dài a: \"))\n",
    "    b = float(input(\"Nhập chiều rộng b: \"))\n",
    "\n",
    "    chu_vi = (a + b) * 2\n",
    "    dien_tich = a * b\n",
    "\n",
    "    print(f\"chu_vi: ({a}+{b}) * 2 = {chu_vi}\")\n",
    "    print(f\"dien_tich: {a} * {b} = {dien_tich}\")\n",
    "\n",
    "if __name__ == \"__main__\":\n",
    "    main()\n"
   ]
  },
  {
   "cell_type": "markdown",
   "id": "0f2483fe",
   "metadata": {},
   "source": [
    "## Lab 1 - Bài 3"
   ]
  },
  {
   "cell_type": "code",
   "execution_count": null,
   "id": "7034990b",
   "metadata": {},
   "outputs": [
    {
     "name": "stdout",
     "output_type": "stream",
     "text": [
      " \"\" \n",
      "Sống trong đời sống cần có một tấm lòng\n",
      "Sống để yêu thương, sẻ chia và hạnh phúc\n",
      "\n",
      "Sống như hoa nở giữa mùa xuân\n",
      "cất tiếng ca cho đời thêm rạng rỡ\n",
      " \"\"  \n"
     ]
    }
   ],
   "source": [
    "# Code lab 1  bài 3 ở đây\n",
    "def main():\n",
    "    song = \"Sống\"\n",
    "\n",
    "    print(' \"\" ')\n",
    "    print(f\"{song} trong đời sống cần có một tấm lòng\")\n",
    "    print(f\"{song} để yêu thương, sẻ chia và hạnh phúc\")\n",
    "    print()\n",
    "    print(f\"{song} như hoa nở giữa mùa xuân\")\n",
    "    print(\"cất tiếng ca cho đời thêm rạng rỡ\")\n",
    "\n",
    "    print(' \"\"  ')\n",
    "main()"
   ]
  },
  {
   "cell_type": "markdown",
   "id": "d36ea3d3",
   "metadata": {},
   "source": [
    "## Lab 1 - Bài 4"
   ]
  },
  {
   "cell_type": "code",
   "execution_count": 8,
   "id": "4c707ec1",
   "metadata": {},
   "outputs": [
    {
     "name": "stdout",
     "output_type": "stream",
     "text": [
      "tính delta phương trình bậc 2\n",
      "del = 6.0**2 - 4*8.0*2.0 = -28.0\n",
      "can_del = 5.291502622129181\n"
     ]
    }
   ],
   "source": [
    "import math \n",
    "\n",
    "def main():\n",
    "    print(\"tính delta phương trình bậc 2\")\n",
    "\n",
    "    a = float(input(\"nhập a: \"))\n",
    "    b = float(input(\"nhập b: \"))\n",
    "    c = float(input(\"nhập c: \"))\n",
    "\n",
    "    delta = b**2 - 4*a*c\n",
    "    print(f\"del = {b}**2 - 4*{a}*{c} = {delta}\")\n",
    "\n",
    "    can_delta = math.sqrt(abs(delta))\n",
    "    print(f\"can_del = {can_delta}\")\n",
    "\n",
    "main()\n"
   ]
  },
  {
   "cell_type": "markdown",
   "id": "e2b41d4a",
   "metadata": {},
   "source": [
    "## Lab 1 - Bài 5: bài tập làm thêm"
   ]
  },
  {
   "cell_type": "code",
   "execution_count": null,
   "id": "0e0172f7",
   "metadata": {},
   "outputs": [],
   "source": [
    "# code lab 1  bài làm thêm ở đây "
   ]
  }
 ],
 "metadata": {
  "kernelspec": {
   "display_name": "Python 3",
   "language": "python",
   "name": "python3"
  },
  "language_info": {
   "codemirror_mode": {
    "name": "ipython",
    "version": 3
   },
   "file_extension": ".py",
   "mimetype": "text/x-python",
   "name": "python",
   "nbconvert_exporter": "python",
   "pygments_lexer": "ipython3",
   "version": "3.12.10"
  }
 },
 "nbformat": 4,
 "nbformat_minor": 5
}
