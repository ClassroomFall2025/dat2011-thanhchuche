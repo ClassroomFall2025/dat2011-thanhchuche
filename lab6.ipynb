{
 "cells": [
  {
   "cell_type": "markdown",
   "id": "fdeff819",
   "metadata": {},
   "source": [
    "# Sinh Viên thực hiện Lab 6 ở Đây"
   ]
  },
  {
   "cell_type": "markdown",
   "id": "acc5d7dc",
   "metadata": {},
   "source": [
    "## Lab 6 - Bài 1"
   ]
  },
  {
   "cell_type": "code",
   "execution_count": null,
   "id": "001e0507",
   "metadata": {},
   "outputs": [
    {
     "name": "stdout",
     "output_type": "stream",
     "text": [
      "------ Nhập thông tin hình học ------\n",
      "---- Hình chữ nhật 1 ----\n",
      "---- Hình chữ nhật 2 ----\n",
      "---- Hình vuông ----\n",
      "--- KẾT QUẢ ---\n",
      "------ Hình chữ nhật ------\n",
      "Chiều rộng: 2.0\n",
      "Chiều dài: 12.0\n",
      "Chu tích: 28.0\n",
      "Diện tích: 24.0\n",
      "--------------------\n",
      "------ Hình chữ nhật ------\n",
      "Chiều rộng: 2.0\n",
      "Chiều dài: 12.0\n",
      "Chu tích: 28.0\n",
      "Diện tích: 24.0\n",
      "--------------------\n",
      "------ Hình vuông ------\n",
      "Cạnh: 20.0\n",
      "Diện tích: 400.0\n",
      "Chu vi: 80.0\n"
     ]
    }
   ],
   "source": [
    "# Code lab 6 bài 1 ở đây\n",
    "\n",
    "from hinhhocbai1lab6 import ChuNhat, Vuong \n",
    "print(\"------ Nhập thông tin hình học ------\")\n",
    "print(\"---- Hình chữ nhật 1 ----\")\n",
    "dai1 = float(input(\"nhập chiều dài: \"))\n",
    "rong1 = float(input(\"Nhập chiều rộng: \"))\n",
    "cn1 = ChuNhat(dai, rong)\n",
    "\n",
    "print(\"---- Hình chữ nhật 2 ----\")\n",
    "dai2 = float(input(\"Nhập chiều dài: \"))\n",
    "rong2 = float(input(\"Nhập chiều rộng: \"))\n",
    "cn2 = ChuNhat(dai, rong)\n",
    "\n",
    "print(\"---- Hình vuông ----\")\n",
    "canh = float(input(\"Nhập cạnh: \"))\n",
    "vg = Vuong(canh)\n",
    "\n",
    "print(\"--- KẾT QUẢ ---\")\n",
    "cn1.xuat()\n",
    "cn2.xuat()\n",
    "vg.xuat()\n",
    "\n"
   ]
  },
  {
   "cell_type": "markdown",
   "id": "c0835310",
   "metadata": {},
   "source": [
    "## Lab 6 - Bài 2"
   ]
  },
  {
   "cell_type": "code",
   "execution_count": null,
   "id": "fa9cb39f",
   "metadata": {},
   "outputs": [],
   "source": [
    "# Code lab 6  bài 2 ở đây\n",
    "\n",
    "from sinhvienpoly import sinhvienpoly \n",
    "\n",
    "class sinhvientest(sinhvienpoly):\n",
    "    def __init__(self, ho_ten, nghanh, diem):\n",
    "        super().__init__(ho_ten, nghanh)\n",
    "        self.diem = diem \n",
    "\n",
    "    def get_diem(self):\n",
    "        return self.get_diem\n",
    "    \n",
    "\n",
    "ho_ten = input(\"Nhập họ tên sinh viên: \")\n",
    "nghanh = input(\"Nhập nghành: \")\n",
    "diem = float(input(\"Nhập điểm: \"))\n",
    "\n",
    "sv = sinhvienpoly(ho_ten, nghanh, diem)\n",
    "sv.xuat()\n"
   ]
  },
  {
   "cell_type": "markdown",
   "id": "0f2483fe",
   "metadata": {},
   "source": [
    "## Lab 6 - Bài 3"
   ]
  },
  {
   "cell_type": "code",
   "execution_count": null,
   "id": "7034990b",
   "metadata": {},
   "outputs": [],
   "source": [
    "# Code lab 6  bài 3 ở đây"
   ]
  },
  {
   "cell_type": "markdown",
   "id": "d36ea3d3",
   "metadata": {},
   "source": [
    "## Lab 6 - Bài 4"
   ]
  },
  {
   "cell_type": "code",
   "execution_count": null,
   "id": "4c707ec1",
   "metadata": {},
   "outputs": [],
   "source": [
    "# code lab 6 bài 4 ở đây"
   ]
  },
  {
   "cell_type": "markdown",
   "id": "e2b41d4a",
   "metadata": {},
   "source": [
    "## Lab 6 - Bài 5: bài tập làm thêm"
   ]
  },
  {
   "cell_type": "code",
   "execution_count": null,
   "id": "0e0172f7",
   "metadata": {},
   "outputs": [],
   "source": [
    "# code lab 6  bài làm thêm ở đây "
   ]
  }
 ],
 "metadata": {
  "kernelspec": {
   "display_name": "Python 3",
   "language": "python",
   "name": "python3"
  },
  "language_info": {
   "codemirror_mode": {
    "name": "ipython",
    "version": 3
   },
   "file_extension": ".py",
   "mimetype": "text/x-python",
   "name": "python",
   "nbconvert_exporter": "python",
   "pygments_lexer": "ipython3",
   "version": "3.12.10"
  }
 },
 "nbformat": 4,
 "nbformat_minor": 5
}
