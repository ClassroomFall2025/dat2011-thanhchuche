{
 "cells": [
  {
   "cell_type": "markdown",
   "id": "fdeff819",
   "metadata": {},
   "source": [
    "# Sinh Viên thực hiện Lab 6 ở Đây"
   ]
  },
  {
   "cell_type": "markdown",
   "id": "acc5d7dc",
   "metadata": {},
   "source": [
    "## Lab 6 - Bài 1"
   ]
  },
  {
   "cell_type": "code",
   "execution_count": 2,
   "id": "001e0507",
   "metadata": {},
   "outputs": [
    {
     "name": "stdout",
     "output_type": "stream",
     "text": [
      "------ Nhập thông tin hình học ------\n",
      "---- Hình chữ nhật 1 ----\n",
      "---- Hình chữ nhật 2 ----\n",
      "---- Hình vuông ----\n",
      "--- KẾT QUẢ ---\n",
      "------ Hình chữ nhật ------\n",
      "Chiều rộng: 6.0\n",
      "Chiều dài: 9.0\n",
      "Chu tích: 30.0\n",
      "Diện tích: 54.0\n",
      "--------------------\n",
      "------ Hình chữ nhật ------\n",
      "Chiều rộng: 5.0\n",
      "Chiều dài: 7.0\n",
      "Chu tích: 24.0\n",
      "Diện tích: 35.0\n",
      "--------------------\n",
      "------ Hình vuông ------\n",
      "Cạnh: 8.0\n",
      "Diện tích: 64.0\n",
      "Chu vi: 32.0\n"
     ]
    }
   ],
   "source": [
    "# Code lab 6 bài 1 ở đây\n",
    "\n",
    "from hinhhocbai1lab6 import ChuNhat, Vuong \n",
    "print(\"------ Nhập thông tin hình học ------\")\n",
    "print(\"---- Hình chữ nhật 1 ----\")\n",
    "dai1 = float(input(\"nhập chiều dài: \"))\n",
    "rong1 = float(input(\"Nhập chiều rộng: \"))\n",
    "cn1 = ChuNhat(dai1, rong1)\n",
    "\n",
    "print(\"---- Hình chữ nhật 2 ----\")\n",
    "dai2 = float(input(\"Nhập chiều dài: \"))\n",
    "rong2 = float(input(\"Nhập chiều rộng: \"))\n",
    "cn2 = ChuNhat(dai2, rong2)\n",
    "\n",
    "print(\"---- Hình vuông ----\")\n",
    "canh = float(input(\"Nhập cạnh: \"))\n",
    "vg = Vuong(canh)\n",
    "\n",
    "print(\"--- KẾT QUẢ ---\")\n",
    "cn1.xuat()\n",
    "cn2.xuat()\n",
    "vg.xuat()\n",
    "\n"
   ]
  },
  {
   "cell_type": "markdown",
   "id": "c0835310",
   "metadata": {},
   "source": [
    "## Lab 6 - Bài 2"
   ]
  },
  {
   "cell_type": "code",
   "execution_count": 1,
   "id": "fa9cb39f",
   "metadata": {},
   "outputs": [
    {
     "name": "stdout",
     "output_type": "stream",
     "text": [
      "Họ tên: Nguyễn Hữu Thành\n",
      "Nghành: XLDL\n",
      "Điểm: 10.00\n",
      "Học lực: Xuất sắc\n"
     ]
    }
   ],
   "source": [
    "# Code lab 6  bài 2 ở đây\n",
    "\n",
    "from sinhvienpoly import SinhVienPoly\n",
    "\n",
    "class sinhvientest(SinhVienPoly):\n",
    "    def __init__(self, ho_ten, nghanh, diem):\n",
    "        super().__init__(ho_ten, nghanh)\n",
    "        self.diem = diem \n",
    "\n",
    "    def get_diem(self):\n",
    "        return self.diem\n",
    "    \n",
    "\n",
    "ho_ten = input(\"Nhập họ tên sinh viên: \")\n",
    "nghanh = input(\"Nhập nghành: \")\n",
    "diem = float(input(\"Nhập điểm: \"))\n",
    "\n",
    "sv = sinhvientest(ho_ten, nghanh, diem)\n",
    "sv.xuat()\n"
   ]
  },
  {
   "cell_type": "markdown",
   "id": "0f2483fe",
   "metadata": {},
   "source": [
    "## Lab 6 - Bài 3"
   ]
  },
  {
   "cell_type": "code",
   "execution_count": 3,
   "id": "7034990b",
   "metadata": {},
   "outputs": [
    {
     "name": "stdout",
     "output_type": "stream",
     "text": [
      "Họ tên: Nguyễn Hữu Thành\n",
      "Nghành: Công nghệ thông tin\n",
      "Điểm: 9.00\n",
      "Học lực: Xuất sắc\n",
      "----\n",
      "Họ tên: Nguyễn Hữu Thành\n",
      "Nghành: Kinh doanh\n",
      "Điểm: 9.00\n",
      "Học lực: Xuất sắc\n"
     ]
    }
   ],
   "source": [
    "# Code lab 6  bài 3 ở đây\n",
    "from sinhvienpoly import  SinhVienPoly, SinhVienIT, SinhVienBiz\n",
    "\n",
    "sv1 = SinhVienIT(\"Nguyễn Hữu Thành\", 9, 8, 10)\n",
    "sv2 = SinhVienBiz(\"Nguyễn Hữu Thành\", 9, 9)\n",
    "\n",
    "sv1.xuat()\n",
    "print(\"----\")\n",
    "sv2.xuat()"
   ]
  },
  {
   "cell_type": "markdown",
   "id": "d36ea3d3",
   "metadata": {},
   "source": [
    "## Lab 6 - Bài 4"
   ]
  },
  {
   "cell_type": "code",
   "execution_count": 1,
   "id": "4c707ec1",
   "metadata": {},
   "outputs": [
    {
     "name": "stdout",
     "output_type": "stream",
     "text": [
      "==============================MENU==============================\n",
      "1: Nhập danh sách sinh viên\n",
      "2: Xuất thông tin danh sách sinh viên\n",
      "3: Xuất danh sách sinh viên có học lực giỏi\n",
      "4: Sắp xếp danh sách sinh viên theo điểm\n",
      "5: Kết thúc\n",
      "================================================================\n"
     ]
    },
    {
     "name": "stdout",
     "output_type": "stream",
     "text": [
      "-- sinh vien 1 --\n",
      "Điểm nằm trong khoảng 0 đến 10. Vui lòng nhập lại\n",
      "-- sinh vien 2 --\n",
      "==============================MENU==============================\n",
      "1: Nhập danh sách sinh viên\n",
      "2: Xuất thông tin danh sách sinh viên\n",
      "3: Xuất danh sách sinh viên có học lực giỏi\n",
      "4: Sắp xếp danh sách sinh viên theo điểm\n",
      "5: Kết thúc\n",
      "================================================================\n",
      "Họ tên: NHT\n",
      "Điểm: 10.0\n",
      "Học lực: Học lực giỏi\n",
      "Họ tên: HCB\n",
      "Điểm: 5.0\n",
      "Học lực: Học lực trung bình\n",
      "==============================MENU==============================\n",
      "1: Nhập danh sách sinh viên\n",
      "2: Xuất thông tin danh sách sinh viên\n",
      "3: Xuất danh sách sinh viên có học lực giỏi\n",
      "4: Sắp xếp danh sách sinh viên theo điểm\n",
      "5: Kết thúc\n",
      "================================================================\n",
      "--- Danh sách sinh viên giỏi ---\n",
      "Họ tên: NHT\n",
      "Điểm: 10.0\n",
      "Học lực: Học lực giỏi\n",
      "==============================MENU==============================\n",
      "1: Nhập danh sách sinh viên\n",
      "2: Xuất thông tin danh sách sinh viên\n",
      "3: Xuất danh sách sinh viên có học lực giỏi\n",
      "4: Sắp xếp danh sách sinh viên theo điểm\n",
      "5: Kết thúc\n",
      "================================================================\n",
      "--- Danh sách sau khi xếp ---\n",
      "Họ tên: NHT\n",
      "Điểm: 10.0\n",
      "Học lực: Học lực giỏi\n",
      "Họ tên: HCB\n",
      "Điểm: 5.0\n",
      "Học lực: Học lực trung bình\n",
      "==============================MENU==============================\n",
      "1: Nhập danh sách sinh viên\n",
      "2: Xuất thông tin danh sách sinh viên\n",
      "3: Xuất danh sách sinh viên có học lực giỏi\n",
      "4: Sắp xếp danh sách sinh viên theo điểm\n",
      "5: Kết thúc\n",
      "================================================================\n",
      "Kết thúc chương trình\n"
     ]
    }
   ],
   "source": [
    "# code lab 6 bài 4 ở đây\n",
    "\n",
    "from quanlysinhvien import *\n",
    "\n",
    "menu = {\n",
    "    \"1\": \"Nhập danh sách sinh viên\",\n",
    "    \"2\": \"Xuất thông tin danh sách sinh viên\",\n",
    "    \"3\": \"Xuất danh sách sinh viên có học lực giỏi\",\n",
    "    \"4\": \"Sắp xếp danh sách sinh viên theo điểm\",\n",
    "    \"5\": \"Kết thúc\"\n",
    "}\n",
    "\n",
    "while True:\n",
    "    print(\"===\"*10 + \"MENU\" + \"===\"*10)\n",
    "    for k,v in menu.items():\n",
    "        print(f\"{k}: {v}\")\n",
    "    print(\"===\"*10 + \"====\" + \"===\"*10)\n",
    "    lua_chon = input(\"Nhập chức năng chương trình: \")\n",
    "\n",
    "    match lua_chon:\n",
    "        case \"1\":\n",
    "            nhap_danh_sach()\n",
    "        case \"2\":\n",
    "            xuat_danh_sach()\n",
    "        case \"3\":\n",
    "            xuat_sv_gioi()\n",
    "        case \"4\":\n",
    "            sap_xep_theo_diem()\n",
    "        case \"5\":\n",
    "            ds_sinhvien.clear()\n",
    "            print(\"Kết thúc chương trình\")\n",
    "            break \n",
    "        case _:\n",
    "            print(\"Lựa chọn chưa đúng\")"
   ]
  },
  {
   "cell_type": "markdown",
   "id": "ba1d918b",
   "metadata": {},
   "source": []
  },
  {
   "cell_type": "markdown",
   "id": "e2b41d4a",
   "metadata": {},
   "source": [
    "## Lab 6 - Bài 5: bài tập làm thêm"
   ]
  },
  {
   "cell_type": "code",
   "execution_count": null,
   "id": "0e0172f7",
   "metadata": {},
   "outputs": [],
   "source": [
    "# code lab 6  bài làm thêm ở đây "
   ]
  }
 ],
 "metadata": {
  "kernelspec": {
   "display_name": "Python 3",
   "language": "python",
   "name": "python3"
  },
  "language_info": {
   "codemirror_mode": {
    "name": "ipython",
    "version": 3
   },
   "file_extension": ".py",
   "mimetype": "text/x-python",
   "name": "python",
   "nbconvert_exporter": "python",
   "pygments_lexer": "ipython3",
   "version": "3.12.10"
  }
 },
 "nbformat": 4,
 "nbformat_minor": 5
}
