{
 "cells": [
  {
   "cell_type": "markdown",
   "id": "fdeff819",
   "metadata": {},
   "source": [
    "# Sinh Viên thực hiện Lab 4 ở Đây"
   ]
  },
  {
   "cell_type": "markdown",
   "id": "acc5d7dc",
   "metadata": {},
   "source": [
    "## Lab 1 - Bài 1"
   ]
  },
  {
   "cell_type": "code",
   "execution_count": 9,
   "id": "001e0507",
   "metadata": {},
   "outputs": [
    {
     "name": "stdout",
     "output_type": "stream",
     "text": [
      "Số nước sử dụng: 5 m3, Tiền nước: 37,500 VND\n"
     ]
    }
   ],
   "source": [
    "# Code lab 4 bài 1 ở đây\n",
    "\n",
    "gia_ban_nuoc  = (7500, 8800, 12000, 24000)\n",
    "\n",
    "def tinh_tien_nuoc(so_nuoc_sd):\n",
    "    if so_nuoc_sd <= 10:\n",
    "        tien_nuoc = so_nuoc_sd * gia_ban_nuoc[0]\n",
    "    elif so_nuoc_sd <= 20:\n",
    "        tien_nuoc = 10 * gia_ban_nuoc[0] + (so_nuoc_sd - 10) * gia_ban_nuoc[1]\n",
    "    elif so_nuoc_sd <= 30:\n",
    "        tien_nuoc = 10 * gia_ban_nuoc[0] + 10 * gia_ban_nuoc[1] + (so_nuoc_sd - 20) * gia_ban_nuoc[2]\n",
    "    else:\n",
    "        tien_nuoc = 10 * gia_ban_nuoc[0] + 10 * gia_ban_nuoc[1] + 10 * gia_ban_nuoc[2] + (so_nuoc_sd - 30) * gia_ban_nuoc[3]\n",
    "    return tien_nuoc\n",
    "\n",
    "so_khoi = int(input(\"Nhập số khối nước sử dụng trong tháng: \"))\n",
    "print(f\"Số nước sử dụng: {so_khoi} m3, Tiền nước: {tinh_tien_nuoc(so_khoi):,} VND\")"
   ]
  },
  {
   "cell_type": "markdown",
   "id": "c0835310",
   "metadata": {},
   "source": [
    "## Lab 4 - Bài 2"
   ]
  },
  {
   "cell_type": "code",
   "execution_count": null,
   "id": "fa9cb39f",
   "metadata": {},
   "outputs": [
    {
     "name": "stdout",
     "output_type": "stream",
     "text": [
      "Số đường cần dùng: 0.83 kg\n",
      "Số đậu cần dùng: 0.53 kg\n"
     ]
    }
   ],
   "source": [
    "# Code lab 4  bài 2 ở đây\n",
    "\n",
    "def tinh_nguyen_lieu (sl_btc, sl_dx, sl_bd):\n",
    "    banh_dau_xanh = {\"duong\": 0.04, \"dau\": 0.07}\n",
    "    banh_thap_cam = {\"duong\": 0.03, \"dau\": 0}\n",
    "    banh_deo = {\"duong\": 0.05, \"dau\": 0.02}\n",
    "    nguyen_lieu = {}\n",
    "    duong_hop_banh = sl_dx * banh_dau_xanh[\"duong\"] + sl_btc * banh_thap_cam[\"duong\"] + sl_bd * banh_deo[\"duong\"]\n",
    "    dau_hop_banh = sl_dx * banh_dau_xanh[\"dau\"] + sl_btc * banh_thap_cam[\"dau\"] + sl_bd * banh_deo[\"dau\"]\n",
    "    nguyen_lieu[\"duong\"] = duong_hop_banh\n",
    "    nguyen_lieu[\"dau\"] = dau_hop_banh\n",
    "    return nguyen_lieu[\"duong\"], nguyen_lieu[\"dau\"]\n",
    "\n",
    "sl_dx = int(input(\"nhập số bánh đậu xanh:\"))\n",
    "sl_btc = int(input(\"nhập số bánh thập cẩm:\"))\n",
    "sl_bd = int(input(\"nhập số bánh dẻo:\"))\n",
    "\n",
    "duong, dau = tinh_nguyen_lieu(sl_btc, sl_dx, sl_bd)\n",
    "\n",
    "print(f\"Số đường cần dùng: {duong:.2f} kg\")\n",
    "print(f\"Số đậu cần dùng: {dau:.2f} kg\")"
   ]
  },
  {
   "cell_type": "markdown",
   "id": "0f2483fe",
   "metadata": {},
   "source": [
    "## Lab 4 - Bài 3"
   ]
  },
  {
   "cell_type": "code",
   "execution_count": 31,
   "id": "7034990b",
   "metadata": {},
   "outputs": [
    {
     "name": "stdout",
     "output_type": "stream",
     "text": [
      "danh sách số ban đầu:  [5, 6, 7, 8, 2, 4]\n",
      "danh sách số chẵn:  [6, 8, 2, 4]\n"
     ]
    }
   ],
   "source": [
    "# Code lab 4  bài 3 ở đây\n",
    "try:\n",
    "    my_list = list(map(int, input(\"Nhập dãy số nguyên, cách nhau bởi dấu cách: \").split()))\n",
    "    new_list = list(filter(lambda x: (x % 2 == 0), my_list))\n",
    "    print (\"danh sách số ban đầu: \", my_list)\n",
    "    print (\"danh sách số chẵn: \", new_list)\n",
    "except ValueError:\n",
    "    print(\"Vui lòng nhập đúng định dạng số nguyên.\")\n"
   ]
  },
  {
   "cell_type": "code",
   "execution_count": 27,
   "id": "1789986d",
   "metadata": {},
   "outputs": [
    {
     "name": "stdout",
     "output_type": "stream",
     "text": [
      "Thoát Chương Trình\n",
      "Dãy số vừa nhập là:  [6, 2, 5, 7, 8]\n",
      "Danh sách số chẵn:  [6, 2, 8]\n"
     ]
    }
   ],
   "source": [
    "my_list = []\n",
    "while True:\n",
    "    so = input(\"Nhập số: \")\n",
    "    if so == 's':\n",
    "        print(\"Thoát Chương Trình\")\n",
    "        break\n",
    "    else:\n",
    "        phan_tu = int (so)  \n",
    "        my_list.append(phan_tu)\n",
    "new_list = list(filter(lambda x: (x % 2 == 0), my_list))\n",
    "print (\"Dãy số vừa nhập là: \", my_list)\n",
    "print (\"Danh sách số chẵn: \", new_list)"
   ]
  },
  {
   "cell_type": "markdown",
   "id": "d36ea3d3",
   "metadata": {},
   "source": [
    "## Lab 4 - Bài 4"
   ]
  },
  {
   "cell_type": "code",
   "execution_count": null,
   "id": "4c707ec1",
   "metadata": {},
   "outputs": [
    {
     "name": "stdout",
     "output_type": "stream",
     "text": [
      "\n",
      "Menu:\n",
      "1. Tính tiền nước\n",
      "2. Tính nguyên liệu làm bánh\n",
      "x. Thoát\n",
      "Thoát Chương Trình\n"
     ]
    }
   ],
   "source": [
    "# code lab 4 bài 4 ở đây\n",
    "\n",
    "gia_ban_nuoc  = (7500, 8800, 12000, 24000)\n",
    "def tinh_tien_nuoc(so_nuoc_sd):\n",
    "    if so_nuoc_sd <= 10:\n",
    "        tien_nuoc = so_nuoc_sd * gia_ban_nuoc[0]\n",
    "    elif so_nuoc_sd <= 20:\n",
    "        tien_nuoc = 10 * gia_ban_nuoc[0] + (so_nuoc_sd - 10) * gia_ban_nuoc[1]\n",
    "    elif so_nuoc_sd <= 30:\n",
    "        tien_nuoc = 10 * gia_ban_nuoc[0] + 10 * gia_ban_nuoc[1] + (so_nuoc_sd - 20) * gia_ban_nuoc[2]\n",
    "    else:\n",
    "        tien_nuoc = 10 * gia_ban_nuoc[0] + 10 * gia_ban_nuoc[1] + 10 * gia_ban_nuoc[2] + (so_nuoc_sd - 30) * gia_ban_nuoc[3]\n",
    "    return tien_nuoc\n",
    "\n",
    "def tinh_nguyen_lieu (sl_btc, sl_dx, sl_bd):\n",
    "    banh_dau_xanh = {\"duong\": 0.04, \"dau\": 0.07}\n",
    "    banh_thap_cam = {\"duong\": 0.03, \"dau\": 0}\n",
    "    banh_deo = {\"duong\": 0.05, \"dau\": 0.02}\n",
    "    nguyen_lieu = {}\n",
    "    duong_hop_banh = sl_dx * banh_dau_xanh[\"duong\"] + sl_btc * banh_thap_cam[\"duong\"] + sl_bd * banh_deo[\"duong\"]\n",
    "    dau_hop_banh = sl_dx * banh_dau_xanh[\"dau\"] + sl_btc * banh_thap_cam[\"dau\"] + sl_bd * banh_deo[\"dau\"]\n",
    "    nguyen_lieu[\"duong\"] = duong_hop_banh\n",
    "    nguyen_lieu[\"dau\"] = dau_hop_banh\n",
    "    return nguyen_lieu[\"duong\"], nguyen_lieu[\"dau\"]\n",
    "\n",
    "while True:\n",
    "    print(\"\\nMenu:\")\n",
    "    print(\"1. Tính tiền nước\")\n",
    "    print(\"2. Tính nguyên liệu làm bánh\")\n",
    "    print(\"x. Thoát\")\n",
    "    choice = input(\"Chọn một tùy chọn (1-3): \")\n",
    "\n",
    "    if choice == '1':\n",
    "            so_khoi = int(input(\"Nhập số khối nước sử dụng trong tháng: \"))\n",
    "            print(f\"Số nước sử dụng: {so_khoi} m3, Tiền nước: {tinh_tien_nuoc(so_khoi):,} VND\")\n",
    "    elif choice == '2':\n",
    "        sl_dx = int(input(\"nhập số bánh đậu xanh:\"))\n",
    "        sl_btc = int(input(\"nhập số bánh thập cẩm:\"))\n",
    "        sl_bd = int(input(\"nhập số bánh dẻo:\"))\n",
    "\n",
    "        duong, dau = tinh_nguyen_lieu(sl_btc, sl_dx, sl_bd)\n",
    "\n",
    "        print(f\"Số đường cần dùng: {duong:.2f} kg\")\n",
    "        print(f\"Số đậu cần dùng: {dau:.2f} kg\")\n",
    "    elif choice == 'x':\n",
    "        print(\"Thoát Chương Trình\")\n",
    "        break\n",
    "    else:\n",
    "        print(\"Lựa chọn không hợp lệ. Vui lòng chọn lại.\")"
   ]
  },
  {
   "cell_type": "markdown",
   "id": "e2b41d4a",
   "metadata": {},
   "source": [
    "## Lab 4 - Bài 5: bài tập làm thêm"
   ]
  },
  {
   "cell_type": "code",
   "execution_count": null,
   "id": "0e0172f7",
   "metadata": {},
   "outputs": [],
   "source": [
    "# code lab 4  bài làm thêm ở đây "
   ]
  }
 ],
 "metadata": {
  "kernelspec": {
   "display_name": "Python 3",
   "language": "python",
   "name": "python3"
  },
  "language_info": {
   "codemirror_mode": {
    "name": "ipython",
    "version": 3
   },
   "file_extension": ".py",
   "mimetype": "text/x-python",
   "name": "python",
   "nbconvert_exporter": "python",
   "pygments_lexer": "ipython3",
   "version": "3.12.10"
  }
 },
 "nbformat": 4,
 "nbformat_minor": 5
}
