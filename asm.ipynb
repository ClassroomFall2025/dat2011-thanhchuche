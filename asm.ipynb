{
 "cells": [
  {
   "cell_type": "code",
   "execution_count": 20,
   "id": "577ff21b",
   "metadata": {},
   "outputs": [
    {
     "ename": "ModuleNotFoundError",
     "evalue": "No module named 'chucnang'",
     "output_type": "error",
     "traceback": [
      "\u001b[31m---------------------------------------------------------------------------\u001b[39m",
      "\u001b[31mModuleNotFoundError\u001b[39m                       Traceback (most recent call last)",
      "\u001b[36mCell\u001b[39m\u001b[36m \u001b[39m\u001b[32mIn[20]\u001b[39m\u001b[32m, line 1\u001b[39m\n\u001b[32m----> \u001b[39m\u001b[32m1\u001b[39m \u001b[38;5;28;01mfrom\u001b[39;00m\u001b[38;5;250m \u001b[39m\u001b[34;01mchucnang\u001b[39;00m\u001b[38;5;250m \u001b[39m\u001b[38;5;28;01mimport\u001b[39;00m *\n\u001b[32m      3\u001b[39m \u001b[38;5;28;01mwhile\u001b[39;00m \u001b[38;5;28;01mTrue\u001b[39;00m:\n\u001b[32m      4\u001b[39m     \u001b[38;5;28mprint\u001b[39m(\u001b[33m\"\u001b[39m\u001b[33m MENU QUẢN LÝ NHÂN VIÊN \u001b[39m\u001b[33m\"\u001b[39m)\n",
      "\u001b[31mModuleNotFoundError\u001b[39m: No module named 'chucnang'"
     ]
    }
   ],
   "source": [
    "from chucnang import *\n",
    "\n",
    "while True:\n",
    "    print(\" MENU QUẢN LÝ NHÂN VIÊN \")\n",
    "    print(\"1. Y1. Nhập danh sách nhân viên từ bàn phím. Lưu thông tin nhân viên vào file.\")\n",
    "    print(\"2. Y2. Đọc thông tin nhân viên từ file và xuất danh sách nhân viên ra màn hình.\")\n",
    "    print(\"3. Y3. Tìm và hiển thị nhân viên theo mã nhập từ bàn phím.\")\n",
    "    print(\"4. Y4. Xóa nhân viên theo mã nhập từ bàn phím. Cập nhật file dữ liệu.\")\n",
    "    print(\"5. Y5. Cập nhật thông tin nhân viên theo mã nhập từ bàn phím và ghi thay đổi vào file.\")\n",
    "    print(\"6. Y6. Tìm các nhân viên theo khoảng lương nhập từ bàn phím.\")\n",
    "    print(\"7. Y7. Sắp xếp nhân viên theo họ và tên.\")\n",
    "    print(\"8. Y8. Sắp xếp nhân viên theo thu nhập.\")\n",
    "    print(\"9. Y9. Xuất 5 nhân viên có thu nhập cao nhất.\")\n",
    "    print(\"0. Thoát\")\n",
    "    chon = input(\"Chọn chức năng (0-9): \")\n",
    "    if chon == \"1\":\n",
    "        nhap_danh_sach_va_luu_file()\n",
    "    elif chon == \"2\":\n",
    "        doc_va_xuat_danh_sach()\n",
    "    elif chon == \"3\":\n",
    "        tim_nhan_vien_theo_ma()\n",
    "    elif chon == \"4\":\n",
    "        xoa_nhan_vien_theo_ma()\n",
    "    elif chon == \"5\":\n",
    "        cap_nhat_thong_tin_nhan_vien()\n",
    "    elif chon == \"6\":\n",
    "        tim_nhan_vien_theo_khoang_luong()\n",
    "    elif chon == \"7\":\n",
    "        sap_xep_theo_ho_ten()\n",
    "    elif chon == \"8\":\n",
    "        sap_xep_theo_thu_nhap()\n",
    "    elif chon == \"9\":\n",
    "        xuat_5_nhan_vien_thu_nhap_cao_nhat()\n",
    "    elif chon == \"0\":\n",
    "        print(\"Kết thúc chương trình.\")\n",
    "        break\n",
    "    else:\n",
    "        print(\"Vui lòng chọn lại!\")"
   ]
  }
 ],
 "metadata": {
  "kernelspec": {
   "display_name": "Python 3",
   "language": "python",
   "name": "python3"
  },
  "language_info": {
   "codemirror_mode": {
    "name": "ipython",
    "version": 3
   },
   "file_extension": ".py",
   "mimetype": "text/x-python",
   "name": "python",
   "nbconvert_exporter": "python",
   "pygments_lexer": "ipython3",
   "version": "3.12.10"
  }
 },
 "nbformat": 4,
 "nbformat_minor": 5
}
