{
 "cells": [
  {
   "cell_type": "code",
   "execution_count": 21,
   "id": "b86bb318",
   "metadata": {},
   "outputs": [],
   "source": [
    "menu = {\n",
    "    \"0\" : \"Thoát\", \n",
    "    \"1\" : \"Nhập danh sách sinh viên\",\n",
    "    \"2\" : \"Xuất thông tin danh sách sinh viên\",\n",
    "    \"3\" : \"Xuất danh sách sinh viên có học lực giỏi\",\n",
    "    \"4\" : \"Sắp xếp danh sách sinh viên theo điểm từ cao đến thấp\"\n",
    "}"
   ]
  },
  {
   "cell_type": "code",
   "execution_count": 20,
   "id": "e71df708",
   "metadata": {},
   "outputs": [],
   "source": [
    "import sinh_vien_abc_im as qlsv\n",
    "ql = qlsv.QuanLySV()"
   ]
  },
  {
   "cell_type": "code",
   "execution_count": 22,
   "id": "262c79bb",
   "metadata": {},
   "outputs": [
    {
     "name": "stdout",
     "output_type": "stream",
     "text": [
      "==================== \"MENU\" ====================\n",
      "0:Thoát\n",
      "1:Nhập danh sách sinh viên\n",
      "2:Xuất thông tin danh sách sinh viên\n",
      "3:Xuất danh sách sinh viên có học lực giỏi\n",
      "4:Sắp xếp danh sách sinh viên theo điểm từ cao đến thấp\n",
      "Nhập danh sách sinh viên\n",
      "thoát nhập\n",
      "==================== \"MENU\" ====================\n",
      "0:Thoát\n",
      "1:Nhập danh sách sinh viên\n",
      "2:Xuất thông tin danh sách sinh viên\n",
      "3:Xuất danh sách sinh viên có học lực giỏi\n",
      "4:Sắp xếp danh sách sinh viên theo điểm từ cao đến thấp\n",
      "Xuất thông tin danh sách sinh viên\n",
      "Họ tên               | Mã số sinh viên | nghành học           | điểm       | học lực        \n",
      "huuthanh             | ps123456   | it                   | 9.0        | giỏi           \n",
      "huuthanh             | ps12345    | xldl                 | 9.0        | giỏi           \n",
      "==================== \"MENU\" ====================\n",
      "0:Thoát\n",
      "1:Nhập danh sách sinh viên\n",
      "2:Xuất thông tin danh sách sinh viên\n",
      "3:Xuất danh sách sinh viên có học lực giỏi\n",
      "4:Sắp xếp danh sách sinh viên theo điểm từ cao đến thấp\n",
      "Xuất danh sách sinh viên có học lực giỏi\n"
     ]
    },
    {
     "ename": "AttributeError",
     "evalue": "'QuanLySV' object has no attribute 'xuat_ds_sv_gioi'",
     "output_type": "error",
     "traceback": [
      "\u001b[31m---------------------------------------------------------------------------\u001b[39m",
      "\u001b[31mAttributeError\u001b[39m                            Traceback (most recent call last)",
      "\u001b[36mCell\u001b[39m\u001b[36m \u001b[39m\u001b[32mIn[22]\u001b[39m\u001b[32m, line 20\u001b[39m\n\u001b[32m     18\u001b[39m \u001b[38;5;28;01mcase\u001b[39;00m \u001b[33m\"\u001b[39m\u001b[33m3\u001b[39m\u001b[33m\"\u001b[39m:\n\u001b[32m     19\u001b[39m     \u001b[38;5;28mprint\u001b[39m(\u001b[33m\"\u001b[39m\u001b[33mXuất danh sách sinh viên có học lực giỏi\u001b[39m\u001b[33m\"\u001b[39m)\n\u001b[32m---> \u001b[39m\u001b[32m20\u001b[39m     \u001b[43mql\u001b[49m\u001b[43m.\u001b[49m\u001b[43mxuat_ds_sv_gioi\u001b[49m()\n\u001b[32m     21\u001b[39m \u001b[38;5;28;01mcase\u001b[39;00m \u001b[33m\"\u001b[39m\u001b[33m4\u001b[39m\u001b[33m\"\u001b[39m:\n\u001b[32m     22\u001b[39m     \u001b[38;5;28mprint\u001b[39m(\u001b[33m\"\u001b[39m\u001b[33mSắp xếp danh sách sinh viên theo điểm từ cao đến thấp\u001b[39m\u001b[33m\"\u001b[39m)\n",
      "\u001b[31mAttributeError\u001b[39m: 'QuanLySV' object has no attribute 'xuat_ds_sv_gioi'"
     ]
    }
   ],
   "source": [
    "while True:\n",
    "\n",
    "    print(f'{\"=\"*20} \"MENU\" {\"=\"*20}')\n",
    "    for k, v in menu.items():\n",
    "        print(f'{k}:{v}')\n",
    "\n",
    "    lua_chon = input(\"chọn chức năng trương trình\")\n",
    "    match lua_chon:\n",
    "        case \"0\":\n",
    "            print(\"Thoát chương trình\")\n",
    "            break\n",
    "        case \"1\":\n",
    "            print(\"Nhập danh sách sinh viên\")\n",
    "            ql.nhap_ds_sv()\n",
    "        case \"2\":\n",
    "            print(\"Xuất thông tin danh sách sinh viên\")\n",
    "            ql.xuat_dssv()\n",
    "        case \"3\":\n",
    "            print(\"Xuất danh sách sinh viên có học lực giỏi\")\n",
    "            ql.xuat_ds_sv_gioi()\n",
    "        case \"4\":\n",
    "            print(\"Sắp xếp danh sách sinh viên theo điểm từ cao đến thấp\")\n",
    "            ql.sap_xep_dssv()\n",
    "        \n",
    "        case _:\n",
    "            print(\"không đúng chức năng\")\n",
    "        "
   ]
  }
 ],
 "metadata": {
  "kernelspec": {
   "display_name": "Python 3",
   "language": "python",
   "name": "python3"
  },
  "language_info": {
   "codemirror_mode": {
    "name": "ipython",
    "version": 3
   },
   "file_extension": ".py",
   "mimetype": "text/x-python",
   "name": "python",
   "nbconvert_exporter": "python",
   "pygments_lexer": "ipython3",
   "version": "3.12.10"
  }
 },
 "nbformat": 4,
 "nbformat_minor": 5
}
