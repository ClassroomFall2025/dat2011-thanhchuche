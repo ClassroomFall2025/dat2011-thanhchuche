{
 "cells": [
  {
   "cell_type": "code",
   "execution_count": null,
   "id": "99b0c6d8",
   "metadata": {},
   "outputs": [],
   "source": [
    "import sach_gk_tieu_thieu as qlsach\n",
    "ql = qlsach.QuanLySach()"
   ]
  },
  {
   "cell_type": "code",
   "execution_count": null,
   "id": "8cb852ee",
   "metadata": {},
   "outputs": [],
   "source": [
    "menu = {\n",
    "    \"0\" : \"Thoát\", \n",
    "    \"1\" : \"Nhập danh sách sách\",\n",
    "    \"2\" : \"Xuất thông tin danh sách sách\",\n",
    "    \"3\" : \"Xuất danh sách sách có đánh giá 'Bán chạy'\",\n",
    "    \"4\" : \"Sắp xếp danh sách sách theo giá bán (từ cao đến thấp) \"\n",
    "}"
   ]
  },
  {
   "cell_type": "code",
   "execution_count": null,
   "id": "bef941b6",
   "metadata": {},
   "outputs": [],
   "source": [
    "while True:\n",
    "\n",
    "    print(f'{\"=\"*20} \"MENU\" {\"=\"*20}')\n",
    "    \n",
    "    for k, v in menu.items():\n",
    "        print(f'{k}:{v}')\n",
    "\n",
    "    print(f'{\"=\"*48}')\n",
    "\n",
    "    lua_chon = input(\"chọn chức năng trương trình\")\n",
    "    match lua_chon:\n",
    "        case \"0\":\n",
    "            print(\"Thoát chương trình\")\n",
    "            break\n",
    "        case \"1\":\n",
    "            print(\"Nhập danh sách sách\")\n",
    "            ql.nhap_danh_sach()\n",
    "        case \"2\":\n",
    "            print(\"Xuất thông tin danh sách sách\")\n",
    "            ql.xuat_ds_sach()\n",
    "        case \"3\":\n",
    "            print(\"Xuất danh sách sách có đánh giá 'Bán chạy\")\n",
    "            ql.xuat_sach_ban_chay()\n",
    "        case \"4\":\n",
    "            print(\"Sắp xếp danh sách sách theo giá bán (từ cao đến thấp)\")\n",
    "            ql.sap_xep_sach()\n",
    "        \n",
    "        case _:\n",
    "            print(\"không đúng chức năng\")\n",
    "        "
   ]
  },
  {
   "cell_type": "code",
   "execution_count": null,
   "id": "97d1d701",
   "metadata": {},
   "outputs": [],
   "source": []
  }
 ],
 "metadata": {
  "kernelspec": {
   "display_name": "Python 3",
   "language": "python",
   "name": "python3"
  },
  "language_info": {
   "codemirror_mode": {
    "name": "ipython",
    "version": 3
   },
   "file_extension": ".py",
   "mimetype": "text/x-python",
   "name": "python",
   "nbconvert_exporter": "python",
   "pygments_lexer": "ipython3",
   "version": "3.12.10"
  }
 },
 "nbformat": 4,
 "nbformat_minor": 5
}
