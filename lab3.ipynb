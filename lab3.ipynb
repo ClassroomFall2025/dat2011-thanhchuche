{
 "cells": [
  {
   "cell_type": "markdown",
   "id": "fdeff819",
   "metadata": {},
   "source": [
    "# Sinh Viên thực hiện Lab 3 ở Đây"
   ]
  },
  {
   "cell_type": "markdown",
   "id": "acc5d7dc",
   "metadata": {},
   "source": [
    "## Lab 3 - Bài 1"
   ]
  },
  {
   "cell_type": "code",
   "execution_count": 6,
   "id": "001e0507",
   "metadata": {},
   "outputs": [
    {
     "name": "stdout",
     "output_type": "stream",
     "text": [
      "Kết thúc nhập dãy số.\n",
      "Dãy số ban đầu:  [9, 59, 21, 20, 12]\n",
      "Dãy số sau khi sắp xếp:  [9, 12, 20, 21, 59]\n",
      "Giá trị nhỏ nhất trong dãy số là:  9\n",
      "Trung bình cộng các số chia hết cho 3 trong dãy số là:  14.0\n"
     ]
    }
   ],
   "source": [
    "# Code lab 3 bài 1 ở đây\n",
    "\n",
    "day_so = []\n",
    "while True:\n",
    "    n = input(\"nhập số: \")\n",
    "    if n == \"x\":\n",
    "        print(\"Kết thúc nhập dãy số.\")\n",
    "        break\n",
    "    else:\n",
    "        phan_tu = int(n)\n",
    "        day_so.append(phan_tu)\n",
    "print (\"Dãy số ban đầu: \", day_so)\n",
    "\n",
    "day_so.sort()\n",
    "print (\"Dãy số sau khi sắp xếp: \", day_so)\n",
    "\n",
    "gia_tri_nho_nhat = day_so[0]\n",
    "print(\"Giá trị nhỏ nhất trong dãy số là: \", gia_tri_nho_nhat)\n",
    "\n",
    "\n",
    "tong =  0\n",
    "dem = 0\n",
    "for n in day_so:\n",
    "    if n % 3 == 0:\n",
    "        tong = tong + n\n",
    "        dem = dem + 1\n",
    "if dem > 0:\n",
    "    tbc = tong / dem\n",
    "    print(\"Trung bình cộng các số chia hết cho 3 trong dãy số là: \", tbc)\n",
    "else:\n",
    "    print(\"Không có số nào trong dãy số chia hết cho 3.\")"
   ]
  },
  {
   "cell_type": "markdown",
   "id": "c0835310",
   "metadata": {},
   "source": [
    "## Lab 3 - Bài 2"
   ]
  },
  {
   "cell_type": "code",
   "execution_count": 1,
   "id": "fa9cb39f",
   "metadata": {},
   "outputs": [
    {
     "name": "stdout",
     "output_type": "stream",
     "text": [
      "Thông tin sinh viên\n",
      "Họ tên: nguyễn hữu thành \n",
      "Điểm: 12.0\n",
      "Xếp loại: Xuất sắc\n"
     ]
    }
   ],
   "source": [
    "# Code lab 3  bài 2 ở đây\n",
    "\n",
    "sinh_vien = {}\n",
    "sinh_vien[\"ho_ten\"] = input(\"Nhập họ tên sinh viên: \")\n",
    "sinh_vien[\"diem\"] = float(input(\"Nhập điểm sinh viên: \"))\n",
    "\n",
    "if sinh_vien[\"diem\"] < 5:\n",
    "    sinh_vien[\"xep_loai\"] = \"Yếu\"\n",
    "elif 5 <= sinh_vien[\"diem\"] < 7:\n",
    "    sinh_vien[\"xep_loai\"] = \"Trung bình\"\n",
    "elif 7 <= sinh_vien[\"diem\"] < 8:\n",
    "    sinh_vien[\"xep_loai\"] = \"Khá\"\n",
    "elif 8 <= sinh_vien[\"diem\"] < 9:\n",
    "    sinh_vien[\"xep_loai\"] = \"Giỏi\" \n",
    "elif sinh_vien[\"diem\"] >= 9:\n",
    "    sinh_vien[\"xep_loai\"] = \"Xuất sắc\"\n",
    "\n",
    "print(\"Thông tin sinh viên\")\n",
    "print(\"Họ tên:\", sinh_vien[\"ho_ten\"])\n",
    "print(\"Điểm:\", sinh_vien[\"diem\"])\n",
    "print(\"Xếp loại:\", sinh_vien[\"xep_loai\"])\n"
   ]
  },
  {
   "cell_type": "markdown",
   "id": "0f2483fe",
   "metadata": {},
   "source": [
    "## Lab 3 - Bài 3"
   ]
  },
  {
   "cell_type": "code",
   "execution_count": 12,
   "id": "7034990b",
   "metadata": {},
   "outputs": [
    {
     "name": "stdout",
     "output_type": "stream",
     "text": [
      "2 là số nguyên tố.\n"
     ]
    }
   ],
   "source": [
    "# Code lab 3  bài 3 ở đây\n",
    "\n",
    "n = int(input(\"Nhập số nguyên dương n: \"))\n",
    "ok = True\n",
    "if n < 2:\n",
    "    ok = False\n",
    "else:\n",
    "    i = 2\n",
    "    while i < n:\n",
    "        if n % i == 0:\n",
    "            ok = False\n",
    "            break\n",
    "        i += 1\n",
    "if ok:\n",
    "    print(n, \"là số nguyên tố.\")  \n",
    "else:\n",
    "    print(n, \"không phải là số nguyên tố.\")"
   ]
  },
  {
   "cell_type": "markdown",
   "id": "d36ea3d3",
   "metadata": {},
   "source": [
    "## Lab 3 - Bài 4"
   ]
  },
  {
   "cell_type": "code",
   "execution_count": 13,
   "id": "4c707ec1",
   "metadata": {},
   "outputs": [
    {
     "name": "stdout",
     "output_type": "stream",
     "text": [
      "1 x 1 =  1   2 x 1 =  2   3 x 1 =  3   4 x 1 =  4   5 x 1 =  5   6 x 1 =  6   7 x 1 =  7   8 x 1 =  8   9 x 1 =  9   \n",
      "1 x 2 =  2   2 x 2 =  4   3 x 2 =  6   4 x 2 =  8   5 x 2 = 10   6 x 2 = 12   7 x 2 = 14   8 x 2 = 16   9 x 2 = 18   \n",
      "1 x 3 =  3   2 x 3 =  6   3 x 3 =  9   4 x 3 = 12   5 x 3 = 15   6 x 3 = 18   7 x 3 = 21   8 x 3 = 24   9 x 3 = 27   \n",
      "1 x 4 =  4   2 x 4 =  8   3 x 4 = 12   4 x 4 = 16   5 x 4 = 20   6 x 4 = 24   7 x 4 = 28   8 x 4 = 32   9 x 4 = 36   \n",
      "1 x 5 =  5   2 x 5 = 10   3 x 5 = 15   4 x 5 = 20   5 x 5 = 25   6 x 5 = 30   7 x 5 = 35   8 x 5 = 40   9 x 5 = 45   \n",
      "1 x 6 =  6   2 x 6 = 12   3 x 6 = 18   4 x 6 = 24   5 x 6 = 30   6 x 6 = 36   7 x 6 = 42   8 x 6 = 48   9 x 6 = 54   \n",
      "1 x 7 =  7   2 x 7 = 14   3 x 7 = 21   4 x 7 = 28   5 x 7 = 35   6 x 7 = 42   7 x 7 = 49   8 x 7 = 56   9 x 7 = 63   \n",
      "1 x 8 =  8   2 x 8 = 16   3 x 8 = 24   4 x 8 = 32   5 x 8 = 40   6 x 8 = 48   7 x 8 = 56   8 x 8 = 64   9 x 8 = 72   \n",
      "1 x 9 =  9   2 x 9 = 18   3 x 9 = 27   4 x 9 = 36   5 x 9 = 45   6 x 9 = 54   7 x 9 = 63   8 x 9 = 72   9 x 9 = 81   \n"
     ]
    }
   ],
   "source": [
    "# code lab 3 bài 4 ở đây\n",
    "\n",
    "for j in range(1, 10):\n",
    "    for i in range(1, 10):\n",
    "        print(f\"{i} x {j} = {i*j:2}\", end=\"   \")\n",
    "    print()"
   ]
  },
  {
   "cell_type": "markdown",
   "id": "e2b41d4a",
   "metadata": {},
   "source": [
    "## Lab 3 - Bài 5: bài tập làm thêm"
   ]
  },
  {
   "cell_type": "code",
   "execution_count": null,
   "id": "0e0172f7",
   "metadata": {},
   "outputs": [],
   "source": [
    "# code lab 3  bài làm thêm ở đây "
   ]
  }
 ],
 "metadata": {
  "kernelspec": {
   "display_name": "Python 3",
   "language": "python",
   "name": "python3"
  },
  "language_info": {
   "codemirror_mode": {
    "name": "ipython",
    "version": 3
   },
   "file_extension": ".py",
   "mimetype": "text/x-python",
   "name": "python",
   "nbconvert_exporter": "python",
   "pygments_lexer": "ipython3",
   "version": "3.12.10"
  }
 },
 "nbformat": 4,
 "nbformat_minor": 5
}
