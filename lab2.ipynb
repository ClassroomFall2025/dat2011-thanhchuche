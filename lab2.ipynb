{
 "cells": [
  {
   "cell_type": "markdown",
   "id": "9bf4775e",
   "metadata": {},
   "source": [
    "Lab 2 - Bài 1"
   ]
  },
  {
   "cell_type": "code",
   "execution_count": 1,
   "id": "d32321ea",
   "metadata": {},
   "outputs": [
    {
     "name": "stdout",
     "output_type": "stream",
     "text": [
      "Tìm thấy cụm từ 'con người' trong bài thơ.\n",
      "Từ trích được: con người\n",
      "từ viết hoa: CON NGƯỜI\n"
     ]
    }
   ],
   "source": [
    "# Code lab 2 bài 1 ở đây\n",
    "bai_tho = '''Kiếp con người mỏng manh như là gió\n",
    "Sống trên đời được mấy lần vui \n",
    "Sao phải đau mà không thể mỉm cười\n",
    "Gắng buông nỗi ngậm ngùi nơi quá khứ\n",
    "\n",
    "Nếu có thể sao ta không làm thử\n",
    "Để tâm hồn khắc hai chữ bình an \n",
    "Cho đôi chân bước thanh thản nhẹ nhàng\n",
    "Dù hướng đời có muôn ngàn đá sỏi'''\n",
    " \n",
    "if \"con người\" in bai_tho:\n",
    "    print(\"Tìm thấy cụm từ 'con người' trong bài thơ.\")\n",
    "else:\n",
    "    print(\"Không tìm thấy cụm từ 'con người' trong bài thơ.\")\n",
    "\n",
    "\n",
    "vitri = bai_tho.find(\"con người\")\n",
    "tu_trich = bai_tho[vitri : vitri + len(\"con người\")]\n",
    "print(\"Từ trích được:\", tu_trich)\n",
    "\n",
    "print(\"từ viết hoa:\", tu_trich.upper())"
   ]
  },
  {
   "cell_type": "markdown",
   "id": "93d2b640",
   "metadata": {},
   "source": [
    "Lab 2 - Bài 2"
   ]
  },
  {
   "cell_type": "code",
   "execution_count": 2,
   "id": "9a8c1c55",
   "metadata": {},
   "outputs": [
    {
     "name": "stdout",
     "output_type": "stream",
     "text": [
      "...Kiếp con người mỏng manh như là gió\n",
      "Sống trên đời được mấy lần vui \n",
      "Sao phải đau mà không thể mỉm cười\n",
      "Gắng buông nỗi ngậm ngùi nơi quá khứ\n",
      "\n",
      "Nếu có thể sao ta không làm thử\n",
      "Để tâm hồn khắc hai chữ hạnh phúc \n",
      "Cho đôi chân bước thanh thản nhẹ nhàng\n",
      "Dù hướng đời có muôn ngàn đá sỏi...\n"
     ]
    }
   ],
   "source": [
    "# Code lab 2  bài 2 ở đây\n",
    "bai_tho = '''Kiếp con người mỏng manh như là gió\n",
    "Sống trên đời được mấy lần vui \n",
    "Sao phải đau mà không thể mỉm cười\n",
    "Gắng buông nỗi ngậm ngùi nơi quá khứ\n",
    "\n",
    "Nếu có thể sao ta không làm thử\n",
    "Để tâm hồn khắc hai chữ bình an \n",
    "Cho đôi chân bước thanh thản nhẹ nhàng\n",
    "Dù hướng đời có muôn ngàn đá sỏi'''\n",
    "\n",
    "bai_tho = bai_tho.replace(\"bình an\", \"hạnh phúc\")\n",
    "\n",
    "bai_tho = \"...\" + bai_tho + \"...\"\n",
    "\n",
    "print(bai_tho)"
   ]
  },
  {
   "cell_type": "markdown",
   "id": "009ec958",
   "metadata": {},
   "source": [
    "Lab 2 - Bài 3"
   ]
  },
  {
   "cell_type": "code",
   "execution_count": 3,
   "id": "1c97b1c7",
   "metadata": {},
   "outputs": [
    {
     "name": "stdout",
     "output_type": "stream",
     "text": [
      "phương trình có nghiệm x = -1.8\n"
     ]
    }
   ],
   "source": [
    "# Code lab 2  bài 3 ở đây\n",
    "a = float(input(\"Nhập số a: \"))\n",
    "b = float(input(\"Nhập số b: \"))\n",
    "\n",
    "if a == 0:\n",
    "    if b == 0:\n",
    "        print(\"phương trình vô số nghiệm\")\n",
    "    else:\n",
    "        print(\"phương trình vô nghiệm\")\n",
    "else:\n",
    "    x = -b / a\n",
    "    print(\"phương trình có nghiệm x =\", x)"
   ]
  },
  {
   "cell_type": "markdown",
   "id": "565b4b97",
   "metadata": {},
   "source": [
    "Lab 2 - Bài 4"
   ]
  },
  {
   "cell_type": "code",
   "execution_count": 4,
   "id": "1439164b",
   "metadata": {},
   "outputs": [
    {
     "name": "stdout",
     "output_type": "stream",
     "text": [
      "phương trình vô nghiệm\n"
     ]
    }
   ],
   "source": [
    "# code lab 2 bài 4 ở đây\n",
    "import math\n",
    "a = float(input(\"Nhập số a: \"))\n",
    "b = float(input(\"Nhập số b: \"))\n",
    "c = float(input(\"Nhập số c: \"))\n",
    "\n",
    "if a == 0:\n",
    "    if b == 0:\n",
    "        if c == 0:\n",
    "            print(\"phương trình vô số nghiệm\")\n",
    "        else:\n",
    "            print(\"phương trình vô nghiệm\")\n",
    "    else:\n",
    "        x = -c / b\n",
    "        print(\"phương trình có nghiệm x = \", x)\n",
    "else: # a != 0\n",
    "    delta = b**2  - 4*a*c \n",
    "    if delta <0:\n",
    "        print(\"phương trình vô nghiệm\")\n",
    "    elif delta ==0:\n",
    "        x1 = x2 = -b / (2*a)\n",
    "        print(f\"nghiệm kép x1 = x2 = {x1} \")\n",
    "    else:\n",
    "        can_bac_hai = math.sqrt(delta)\n",
    "        x1 = (-b + can_bac_hai) / (2*a)\n",
    "        x2 = (-b - can_bac_hai) / (2*a)\n",
    "        print(f\"phương trình có hai nghiệm phân biệt x1 = {x1} và x2 = {x2}\")"
   ]
  },
  {
   "cell_type": "markdown",
   "id": "bd461a26",
   "metadata": {},
   "source": [
    "Lab 2 - Bài 5"
   ]
  },
  {
   "cell_type": "code",
   "execution_count": 5,
   "id": "0d5b0bee",
   "metadata": {},
   "outputs": [
    {
     "name": "stdout",
     "output_type": "stream",
     "text": [
      "phương trình có nghiệm x = -0.75\n"
     ]
    }
   ],
   "source": [
    "# code lab 2  bài làm thêm ở đây \n",
    "\n",
    "a = float(input(\"Nhập số a: \"))\n",
    "b = float(input(\"Nhập số b: \")) \n",
    "\n",
    "if a == 0:\n",
    "    if b == 0:\n",
    "        print(\"phương trính vô số nghiệm\")\n",
    "    else:\n",
    "        print(\"phương trình vô nghiệm\")\n",
    "else: \n",
    "    x = -b / a\n",
    "    print(\"phương trình có nghiệm x =\", x)"
   ]
  }
 ],
 "metadata": {
  "kernelspec": {
   "display_name": "Python 3",
   "language": "python",
   "name": "python3"
  },
  "language_info": {
   "codemirror_mode": {
    "name": "ipython",
    "version": 3
   },
   "file_extension": ".py",
   "mimetype": "text/x-python",
   "name": "python",
   "nbconvert_exporter": "python",
   "pygments_lexer": "ipython3",
   "version": "3.12.10"
  }
 },
 "nbformat": 4,
 "nbformat_minor": 5
}
